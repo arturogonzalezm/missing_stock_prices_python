{
 "cells": [
  {
   "cell_type": "code",
   "execution_count": 19,
   "id": "initial_id",
   "metadata": {
    "collapsed": true,
    "ExecuteTime": {
     "end_time": "2024-04-12T06:21:28.250926Z",
     "start_time": "2024-04-12T06:21:28.090933Z"
    }
   },
   "outputs": [
    {
     "name": "stdout",
     "output_type": "stream",
     "text": [
      "Current Working Directory: /Users/arturogonzalez/DataspellProjects/missing_stock_prices_python\n"
     ]
    },
    {
     "name": "stderr",
     "output_type": "stream",
     "text": [
      "/Users/arturogonzalez/DataspellProjects/missing_stock_prices_python/venv/lib/python3.9/site-packages/statsmodels/tsa/base/tsa_model.py:473: ValueWarning:\n",
      "\n",
      "A date index has been provided, but it has no associated frequency information and so will be ignored when e.g. forecasting.\n",
      "\n",
      "/Users/arturogonzalez/DataspellProjects/missing_stock_prices_python/venv/lib/python3.9/site-packages/statsmodels/tsa/base/tsa_model.py:473: ValueWarning:\n",
      "\n",
      "A date index has been provided, but it has no associated frequency information and so will be ignored when e.g. forecasting.\n",
      "\n",
      "/Users/arturogonzalez/DataspellProjects/missing_stock_prices_python/venv/lib/python3.9/site-packages/statsmodels/tsa/base/tsa_model.py:473: ValueWarning:\n",
      "\n",
      "A date index has been provided, but it has no associated frequency information and so will be ignored when e.g. forecasting.\n",
      "\n"
     ]
    },
    {
     "data": {
      "text/plain": "                         ARIMA  Gradient Boosting  Random Forest     Spline  \\\nTimestamp                                                                     \n2012-03-13 16:00:00  32.203880          32.023024      32.220000  32.567407   \n2012-03-21 16:00:00  32.099659          32.346587      32.386600  32.022415   \n2012-03-26 16:00:00  32.111893          32.428491      32.563100  32.504813   \n2012-05-24 16:00:00  29.351512          30.128947      29.495000  29.216148   \n2012-06-01 16:00:00  29.412019          30.329830      31.182250  29.210982   \n2012-06-04 16:00:00  29.410482          29.995149      30.660200  28.476075   \n2012-07-20 16:00:00  30.841651          30.642020      30.656800  30.778367   \n2012-07-23 16:00:00  30.849671          30.137013      29.790300  29.645653   \n2012-07-26 16:00:00  29.321996          30.184023      29.660300  29.565652   \n2012-09-10 16:00:00  31.047764          30.958862      30.927100  30.651522   \n2012-09-17 16:00:00  31.257404          31.010121      31.110000  31.275505   \n2012-09-20 16:00:00  31.187719          31.280317      31.246700  31.409112   \n2012-10-09 16:00:00  29.888196          29.906147      29.678600  29.620264   \n2012-10-10 16:00:00  29.882072          29.851625      29.528300  29.367355   \n2012-10-15 16:00:00  29.325116          29.250085      29.653000  29.781028   \n2012-10-31 16:00:00  28.354322          28.003491      28.257400  29.325718   \n2012-11-06 16:00:00  29.739413          29.191425      29.504550  29.887621   \n2012-11-13 16:00:00  28.989487          28.812481      28.329300  28.140361   \n2012-11-16 16:00:00  26.928444          27.881332      27.249966  26.871198   \n2012-12-13 16:00:00  27.638256          27.286409      27.476200  27.420700   \n\n                        Linear  hackerrank  \nTimestamp                                   \n2012-03-13 16:00:00  32.540000       32.69  \n2012-03-21 16:00:00  32.120000       32.15  \n2012-03-26 16:00:00  32.405000       32.61  \n2012-05-24 16:00:00  29.380000       29.30  \n2012-06-01 16:00:00  29.196667       28.96  \n2012-06-04 16:00:00  28.973333       28.78  \n2012-07-20 16:00:00  30.320000       31.05  \n2012-07-23 16:00:00  29.840000       29.58  \n2012-07-26 16:00:00  29.590000       29.50  \n2012-09-10 16:00:00  30.990000       30.90  \n2012-09-17 16:00:00  31.230000       31.26  \n2012-09-20 16:00:00  31.400000       31.48  \n2012-10-09 16:00:00  29.696667       29.74  \n2012-10-10 16:00:00  29.473333       29.31  \n2012-10-15 16:00:00  29.530000       29.72  \n2012-10-31 16:00:00  28.950000       28.88  \n2012-11-06 16:00:00  29.782500       30.20  \n2012-11-13 16:00:00  28.150000       27.30  \n2012-11-16 16:00:00  26.885000       26.70  \n2012-12-13 16:00:00  27.375000       27.52  ",
      "text/html": "<div>\n<style scoped>\n    .dataframe tbody tr th:only-of-type {\n        vertical-align: middle;\n    }\n\n    .dataframe tbody tr th {\n        vertical-align: top;\n    }\n\n    .dataframe thead th {\n        text-align: right;\n    }\n</style>\n<table border=\"1\" class=\"dataframe\">\n  <thead>\n    <tr style=\"text-align: right;\">\n      <th></th>\n      <th>ARIMA</th>\n      <th>Gradient Boosting</th>\n      <th>Random Forest</th>\n      <th>Spline</th>\n      <th>Linear</th>\n      <th>hackerrank</th>\n    </tr>\n    <tr>\n      <th>Timestamp</th>\n      <th></th>\n      <th></th>\n      <th></th>\n      <th></th>\n      <th></th>\n      <th></th>\n    </tr>\n  </thead>\n  <tbody>\n    <tr>\n      <th>2012-03-13 16:00:00</th>\n      <td>32.203880</td>\n      <td>32.023024</td>\n      <td>32.220000</td>\n      <td>32.567407</td>\n      <td>32.540000</td>\n      <td>32.69</td>\n    </tr>\n    <tr>\n      <th>2012-03-21 16:00:00</th>\n      <td>32.099659</td>\n      <td>32.346587</td>\n      <td>32.386600</td>\n      <td>32.022415</td>\n      <td>32.120000</td>\n      <td>32.15</td>\n    </tr>\n    <tr>\n      <th>2012-03-26 16:00:00</th>\n      <td>32.111893</td>\n      <td>32.428491</td>\n      <td>32.563100</td>\n      <td>32.504813</td>\n      <td>32.405000</td>\n      <td>32.61</td>\n    </tr>\n    <tr>\n      <th>2012-05-24 16:00:00</th>\n      <td>29.351512</td>\n      <td>30.128947</td>\n      <td>29.495000</td>\n      <td>29.216148</td>\n      <td>29.380000</td>\n      <td>29.30</td>\n    </tr>\n    <tr>\n      <th>2012-06-01 16:00:00</th>\n      <td>29.412019</td>\n      <td>30.329830</td>\n      <td>31.182250</td>\n      <td>29.210982</td>\n      <td>29.196667</td>\n      <td>28.96</td>\n    </tr>\n    <tr>\n      <th>2012-06-04 16:00:00</th>\n      <td>29.410482</td>\n      <td>29.995149</td>\n      <td>30.660200</td>\n      <td>28.476075</td>\n      <td>28.973333</td>\n      <td>28.78</td>\n    </tr>\n    <tr>\n      <th>2012-07-20 16:00:00</th>\n      <td>30.841651</td>\n      <td>30.642020</td>\n      <td>30.656800</td>\n      <td>30.778367</td>\n      <td>30.320000</td>\n      <td>31.05</td>\n    </tr>\n    <tr>\n      <th>2012-07-23 16:00:00</th>\n      <td>30.849671</td>\n      <td>30.137013</td>\n      <td>29.790300</td>\n      <td>29.645653</td>\n      <td>29.840000</td>\n      <td>29.58</td>\n    </tr>\n    <tr>\n      <th>2012-07-26 16:00:00</th>\n      <td>29.321996</td>\n      <td>30.184023</td>\n      <td>29.660300</td>\n      <td>29.565652</td>\n      <td>29.590000</td>\n      <td>29.50</td>\n    </tr>\n    <tr>\n      <th>2012-09-10 16:00:00</th>\n      <td>31.047764</td>\n      <td>30.958862</td>\n      <td>30.927100</td>\n      <td>30.651522</td>\n      <td>30.990000</td>\n      <td>30.90</td>\n    </tr>\n    <tr>\n      <th>2012-09-17 16:00:00</th>\n      <td>31.257404</td>\n      <td>31.010121</td>\n      <td>31.110000</td>\n      <td>31.275505</td>\n      <td>31.230000</td>\n      <td>31.26</td>\n    </tr>\n    <tr>\n      <th>2012-09-20 16:00:00</th>\n      <td>31.187719</td>\n      <td>31.280317</td>\n      <td>31.246700</td>\n      <td>31.409112</td>\n      <td>31.400000</td>\n      <td>31.48</td>\n    </tr>\n    <tr>\n      <th>2012-10-09 16:00:00</th>\n      <td>29.888196</td>\n      <td>29.906147</td>\n      <td>29.678600</td>\n      <td>29.620264</td>\n      <td>29.696667</td>\n      <td>29.74</td>\n    </tr>\n    <tr>\n      <th>2012-10-10 16:00:00</th>\n      <td>29.882072</td>\n      <td>29.851625</td>\n      <td>29.528300</td>\n      <td>29.367355</td>\n      <td>29.473333</td>\n      <td>29.31</td>\n    </tr>\n    <tr>\n      <th>2012-10-15 16:00:00</th>\n      <td>29.325116</td>\n      <td>29.250085</td>\n      <td>29.653000</td>\n      <td>29.781028</td>\n      <td>29.530000</td>\n      <td>29.72</td>\n    </tr>\n    <tr>\n      <th>2012-10-31 16:00:00</th>\n      <td>28.354322</td>\n      <td>28.003491</td>\n      <td>28.257400</td>\n      <td>29.325718</td>\n      <td>28.950000</td>\n      <td>28.88</td>\n    </tr>\n    <tr>\n      <th>2012-11-06 16:00:00</th>\n      <td>29.739413</td>\n      <td>29.191425</td>\n      <td>29.504550</td>\n      <td>29.887621</td>\n      <td>29.782500</td>\n      <td>30.20</td>\n    </tr>\n    <tr>\n      <th>2012-11-13 16:00:00</th>\n      <td>28.989487</td>\n      <td>28.812481</td>\n      <td>28.329300</td>\n      <td>28.140361</td>\n      <td>28.150000</td>\n      <td>27.30</td>\n    </tr>\n    <tr>\n      <th>2012-11-16 16:00:00</th>\n      <td>26.928444</td>\n      <td>27.881332</td>\n      <td>27.249966</td>\n      <td>26.871198</td>\n      <td>26.885000</td>\n      <td>26.70</td>\n    </tr>\n    <tr>\n      <th>2012-12-13 16:00:00</th>\n      <td>27.638256</td>\n      <td>27.286409</td>\n      <td>27.476200</td>\n      <td>27.420700</td>\n      <td>27.375000</td>\n      <td>27.52</td>\n    </tr>\n  </tbody>\n</table>\n</div>"
     },
     "metadata": {},
     "output_type": "display_data"
    }
   ],
   "source": [
    "from src.comparison import main\n",
    "from IPython.display import display\n",
    "import pandas as pd\n",
    "\n",
    "result = main()\n",
    "\n",
    "if result is not None and isinstance(result, pd.DataFrame):\n",
    "    display(result)\n",
    "    # result.to_csv('data/result.csv', index=False)\n",
    "else:\n",
    "    print(\"No result to display or save.\")"
   ]
  },
  {
   "cell_type": "code",
   "outputs": [
    {
     "data": {
      "text/plain": "<Figure size 1200x600 with 1 Axes>",
      "image/png": "[encoded data removed]"
     },
     "metadata": {},
     "output_type": "display_data"
    }
   ],
   "source": [
    "import pandas as pd\n",
    "import seaborn as sns\n",
    "import matplotlib.pyplot as plt\n",
    "\n",
    "\n",
    "# Generate a date range based on the number of rows assuming daily data starting from a specific date\n",
    "date_range = pd.date_range(start='2012-01-01', periods=len(result), freq='D')\n",
    "\n",
    "# Assign this date range as the index of the DataFrame\n",
    "result['Date'] = date_range\n",
    "result.set_index('Date', inplace=True)\n",
    "\n",
    "# Plotting with Seaborn\n",
    "plt.figure(figsize=(12, 6))  # Set the figure size for better readability\n",
    "sns.lineplot(data=result)\n",
    "\n",
    "plt.title('Time Series of Interpolated Methods and Hackerrank Values')\n",
    "plt.xlabel('Date')\n",
    "plt.ylabel('Values')\n",
    "plt.xticks(rotation=45)  # Rotate x-axis labels for better readability\n",
    "plt.legend(title='Method')\n",
    "plt.tight_layout()  # Adjust subplots to give some padding\n",
    "plt.show()\n"
   ],
   "metadata": {
    "collapsed": false,
    "ExecuteTime": {
     "end_time": "2024-04-12T06:23:09.689660Z",
     "start_time": "2024-04-12T06:23:09.479727Z"
    }
   },
   "id": "33ae82ca4aeb2e31",
   "execution_count": 22
  },
  {
   "cell_type": "code",
   "outputs": [
    {
     "data": {
      "application/vnd.plotly.v1+json": {
       "data": [
        {
         "hovertemplate": "Method=ARIMA<br>Date=%{x}<br>Values=%{y}<extra></extra>",
         "legendgroup": "ARIMA",
         "line": {
          "color": "#636efa",
          "dash": "solid"
         },
         "marker": {
          "symbol": "circle"
         },
         "mode": "lines",
         "name": "ARIMA",
         "orientation": "v",
         "showlegend": true,
         "x": [
          "2012-01-01T00:00:00",
          "2012-01-02T00:00:00",
          "2012-01-03T00:00:00",
          "2012-01-04T00:00:00",
          "2012-01-05T00:00:00",
          "2012-01-06T00:00:00",
          "2012-01-07T00:00:00",
          "2012-01-08T00:00:00",
          "2012-01-09T00:00:00",
          "2012-01-10T00:00:00",
          "2012-01-11T00:00:00",
          "2012-01-12T00:00:00",
          "2012-01-13T00:00:00",
          "2012-01-14T00:00:00",
          "2012-01-15T00:00:00",
          "2012-01-16T00:00:00",
          "2012-01-17T00:00:00",
          "2012-01-18T00:00:00",
          "2012-01-19T00:00:00",
          "2012-01-20T00:00:00"
         ],
         "xaxis": "x",
         "y": [
          32.20387992159348,
          32.09965943085314,
          32.111893024177164,
          29.351512269920153,
          29.41201870078664,
          29.410481851614175,
          30.841650999904918,
          30.84967116091191,
          29.32199591433553,
          31.047764128165312,
          31.257404123923862,
          31.187718985241485,
          29.88819644034257,
          29.882072465656957,
          29.3251159579842,
          28.354321634340035,
          29.739413358645688,
          28.989486779476696,
          26.928444017451085,
          27.63825628199085
         ],
         "yaxis": "y",
         "type": "scatter"
        },
        {
         "hovertemplate": "Method=Gradient Boosting<br>Date=%{x}<br>Values=%{y}<extra></extra>",
         "legendgroup": "Gradient Boosting",
         "line": {
          "color": "#EF553B",
          "dash": "solid"
         },
         "marker": {
          "symbol": "circle"
         },
         "mode": "lines",
         "name": "Gradient Boosting",
         "orientation": "v",
         "showlegend": true,
         "x": [
          "2012-01-01T00:00:00",
          "2012-01-02T00:00:00",
          "2012-01-03T00:00:00",
          "2012-01-04T00:00:00",
          "2012-01-05T00:00:00",
          "2012-01-06T00:00:00",
          "2012-01-07T00:00:00",
          "2012-01-08T00:00:00",
          "2012-01-09T00:00:00",
          "2012-01-10T00:00:00",
          "2012-01-11T00:00:00",
          "2012-01-12T00:00:00",
          "2012-01-13T00:00:00",
          "2012-01-14T00:00:00",
          "2012-01-15T00:00:00",
          "2012-01-16T00:00:00",
          "2012-01-17T00:00:00",
          "2012-01-18T00:00:00",
          "2012-01-19T00:00:00",
          "2012-01-20T00:00:00"
         ],
         "xaxis": "x",
         "y": [
          32.02302392226393,
          32.34658671356954,
          32.42849066803495,
          30.128947242464665,
          30.32983003685054,
          29.995148903468937,
          30.642019785515018,
          30.137013075233988,
          30.18402264438624,
          30.95886183212401,
          31.01012149216315,
          31.280316803600574,
          29.90614710873422,
          29.85162505465506,
          29.250085071718242,
          28.003491011434274,
          29.191424813550427,
          28.812480674825295,
          27.881332372319072,
          27.2864088871551
         ],
         "yaxis": "y",
         "type": "scatter"
        },
        {
         "hovertemplate": "Method=Random Forest<br>Date=%{x}<br>Values=%{y}<extra></extra>",
         "legendgroup": "Random Forest",
         "line": {
          "color": "#00cc96",
          "dash": "solid"
         },
         "marker": {
          "symbol": "circle"
         },
         "mode": "lines",
         "name": "Random Forest",
         "orientation": "v",
         "showlegend": true,
         "x": [
          "2012-01-01T00:00:00",
          "2012-01-02T00:00:00",
          "2012-01-03T00:00:00",
          "2012-01-04T00:00:00",
          "2012-01-05T00:00:00",
          "2012-01-06T00:00:00",
          "2012-01-07T00:00:00",
          "2012-01-08T00:00:00",
          "2012-01-09T00:00:00",
          "2012-01-10T00:00:00",
          "2012-01-11T00:00:00",
          "2012-01-12T00:00:00",
          "2012-01-13T00:00:00",
          "2012-01-14T00:00:00",
          "2012-01-15T00:00:00",
          "2012-01-16T00:00:00",
          "2012-01-17T00:00:00",
          "2012-01-18T00:00:00",
          "2012-01-19T00:00:00",
          "2012-01-20T00:00:00"
         ],
         "xaxis": "x",
         "y": [
          32.219999999999985,
          32.38660000000004,
          32.56309999999997,
          29.495000000000033,
          31.18225000000002,
          30.660200000000017,
          30.656800000000008,
          29.790300000000016,
          29.660299999999975,
          30.927099999999992,
          31.110000000000017,
          31.246700000000022,
          29.678600000000014,
          29.528299999999998,
          29.65299999999997,
          28.257399999999983,
          29.504549999999952,
          28.329300000000025,
          27.249966,
          27.476199999999963
         ],
         "yaxis": "y",
         "type": "scatter"
        },
        {
         "hovertemplate": "Method=Spline<br>Date=%{x}<br>Values=%{y}<extra></extra>",
         "legendgroup": "Spline",
         "line": {
          "color": "#ab63fa",
          "dash": "solid"
         },
         "marker": {
          "symbol": "circle"
         },
         "mode": "lines",
         "name": "Spline",
         "orientation": "v",
         "showlegend": true,
         "x": [
          "2012-01-01T00:00:00",
          "2012-01-02T00:00:00",
          "2012-01-03T00:00:00",
          "2012-01-04T00:00:00",
          "2012-01-05T00:00:00",
          "2012-01-06T00:00:00",
          "2012-01-07T00:00:00",
          "2012-01-08T00:00:00",
          "2012-01-09T00:00:00",
          "2012-01-10T00:00:00",
          "2012-01-11T00:00:00",
          "2012-01-12T00:00:00",
          "2012-01-13T00:00:00",
          "2012-01-14T00:00:00",
          "2012-01-15T00:00:00",
          "2012-01-16T00:00:00",
          "2012-01-17T00:00:00",
          "2012-01-18T00:00:00",
          "2012-01-19T00:00:00",
          "2012-01-20T00:00:00"
         ],
         "xaxis": "x",
         "y": [
          32.56740693838056,
          32.022415363266816,
          32.504813100945,
          29.21614797288426,
          29.210981780879305,
          28.476075450356735,
          30.778366716146706,
          29.645652535533195,
          29.565652358741513,
          30.651522041656513,
          31.275505072787595,
          31.409112200380118,
          29.62026408801473,
          29.3673552927124,
          29.78102794388517,
          29.325718257151127,
          29.88762117830997,
          28.140360503447646,
          26.871198482078423,
          27.4207004711158
         ],
         "yaxis": "y",
         "type": "scatter"
        },
        {
         "hovertemplate": "Method=Linear<br>Date=%{x}<br>Values=%{y}<extra></extra>",
         "legendgroup": "Linear",
         "line": {
          "color": "#FFA15A",
          "dash": "solid"
         },
         "marker": {
          "symbol": "circle"
         },
         "mode": "lines",
         "name": "Linear",
         "orientation": "v",
         "showlegend": true,
         "x": [
          "2012-01-01T00:00:00",
          "2012-01-02T00:00:00",
          "2012-01-03T00:00:00",
          "2012-01-04T00:00:00",
          "2012-01-05T00:00:00",
          "2012-01-06T00:00:00",
          "2012-01-07T00:00:00",
          "2012-01-08T00:00:00",
          "2012-01-09T00:00:00",
          "2012-01-10T00:00:00",
          "2012-01-11T00:00:00",
          "2012-01-12T00:00:00",
          "2012-01-13T00:00:00",
          "2012-01-14T00:00:00",
          "2012-01-15T00:00:00",
          "2012-01-16T00:00:00",
          "2012-01-17T00:00:00",
          "2012-01-18T00:00:00",
          "2012-01-19T00:00:00",
          "2012-01-20T00:00:00"
         ],
         "xaxis": "x",
         "y": [
          32.540000000000006,
          32.120000000000005,
          32.405,
          29.38,
          29.19666666666667,
          28.973333333333333,
          30.32,
          29.84,
          29.59,
          30.990000000000002,
          31.23,
          31.4,
          29.69666666666667,
          29.473333333333333,
          29.53,
          28.95,
          29.7825,
          28.15,
          26.884999999999998,
          27.375
         ],
         "yaxis": "y",
         "type": "scatter"
        },
        {
         "hovertemplate": "Method=hackerrank<br>Date=%{x}<br>Values=%{y}<extra></extra>",
         "legendgroup": "hackerrank",
         "line": {
          "color": "#19d3f3",
          "dash": "solid"
         },
         "marker": {
          "symbol": "circle"
         },
         "mode": "lines",
         "name": "hackerrank",
         "orientation": "v",
         "showlegend": true,
         "x": [
          "2012-01-01T00:00:00",
          "2012-01-02T00:00:00",
          "2012-01-03T00:00:00",
          "2012-01-04T00:00:00",
          "2012-01-05T00:00:00",
          "2012-01-06T00:00:00",
          "2012-01-07T00:00:00",
          "2012-01-08T00:00:00",
          "2012-01-09T00:00:00",
          "2012-01-10T00:00:00",
          "2012-01-11T00:00:00",
          "2012-01-12T00:00:00",
          "2012-01-13T00:00:00",
          "2012-01-14T00:00:00",
          "2012-01-15T00:00:00",
          "2012-01-16T00:00:00",
          "2012-01-17T00:00:00",
          "2012-01-18T00:00:00",
          "2012-01-19T00:00:00",
          "2012-01-20T00:00:00"
         ],
         "xaxis": "x",
         "y": [
          32.69,
          32.15,
          32.61,
          29.3,
          28.96,
          28.78,
          31.05,
          29.58,
          29.5,
          30.9,
          31.26,
          31.48,
          29.74,
          29.31,
          29.72,
          28.88,
          30.2,
          27.3,
          26.7,
          27.52
         ],
         "yaxis": "y",
         "type": "scatter"
        }
       ],
       "layout": {
        "template": {
         "data": {
          "histogram2dcontour": [
           {
            "type": "histogram2dcontour",
            "colorbar": {
             "outlinewidth": 0,
             "ticks": ""
            },
            "colorscale": [
             [
              0.0,
              "#0d0887"
             ],
             [
              0.1111111111111111,
              "#46039f"
             ],
             [
              0.2222222222222222,
              "#7201a8"
             ],
             [
              0.3333333333333333,
              "#9c179e"
             ],
             [
              0.4444444444444444,
              "#bd3786"
             ],
             [
              0.5555555555555556,
              "#d8576b"
             ],
             [
              0.6666666666666666,
              "#ed7953"
             ],
             [
              0.7777777777777778,
              "#fb9f3a"
             ],
             [
              0.8888888888888888,
              "#fdca26"
             ],
             [
              1.0,
              "#f0f921"
             ]
            ]
           }
          ],
          "choropleth": [
           {
            "type": "choropleth",
            "colorbar": {
             "outlinewidth": 0,
             "ticks": ""
            }
           }
          ],
          "histogram2d": [
           {
            "type": "histogram2d",
            "colorbar": {
             "outlinewidth": 0,
             "ticks": ""
            },
            "colorscale": [
             [
              0.0,
              "#0d0887"
             ],
             [
              0.1111111111111111,
              "#46039f"
             ],
             [
              0.2222222222222222,
              "#7201a8"
             ],
             [
              0.3333333333333333,
              "#9c179e"
             ],
             [
              0.4444444444444444,
              "#bd3786"
             ],
             [
              0.5555555555555556,
              "#d8576b"
             ],
             [
              0.6666666666666666,
              "#ed7953"
             ],
             [
              0.7777777777777778,
              "#fb9f3a"
             ],
             [
              0.8888888888888888,
              "#fdca26"
             ],
             [
              1.0,
              "#f0f921"
             ]
            ]
           }
          ],
          "heatmap": [
           {
            "type": "heatmap",
            "colorbar": {
             "outlinewidth": 0,
             "ticks": ""
            },
            "colorscale": [
             [
              0.0,
              "#0d0887"
             ],
             [
              0.1111111111111111,
              "#46039f"
             ],
             [
              0.2222222222222222,
              "#7201a8"
             ],
             [
              0.3333333333333333,
              "#9c179e"
             ],
             [
              0.4444444444444444,
              "#bd3786"
             ],
             [
              0.5555555555555556,
              "#d8576b"
             ],
             [
              0.6666666666666666,
              "#ed7953"
             ],
             [
              0.7777777777777778,
              "#fb9f3a"
             ],
             [
              0.8888888888888888,
              "#fdca26"
             ],
             [
              1.0,
              "#f0f921"
             ]
            ]
           }
          ],
          "heatmapgl": [
           {
            "type": "heatmapgl",
            "colorbar": {
             "outlinewidth": 0,
             "ticks": ""
            },
            "colorscale": [
             [
              0.0,
              "#0d0887"
             ],
             [
              0.1111111111111111,
              "#46039f"
             ],
             [
              0.2222222222222222,
              "#7201a8"
             ],
             [
              0.3333333333333333,
              "#9c179e"
             ],
             [
              0.4444444444444444,
              "#bd3786"
             ],
             [
              0.5555555555555556,
              "#d8576b"
             ],
             [
              0.6666666666666666,
              "#ed7953"
             ],
             [
              0.7777777777777778,
              "#fb9f3a"
             ],
             [
              0.8888888888888888,
              "#fdca26"
             ],
             [
              1.0,
              "#f0f921"
             ]
            ]
           }
          ],
          "contourcarpet": [
           {
            "type": "contourcarpet",
            "colorbar": {
             "outlinewidth": 0,
             "ticks": ""
            }
           }
          ],
          "contour": [
           {
            "type": "contour",
            "colorbar": {
             "outlinewidth": 0,
             "ticks": ""
            },
            "colorscale": [
             [
              0.0,
              "#0d0887"
             ],
             [
              0.1111111111111111,
              "#46039f"
             ],
             [
              0.2222222222222222,
              "#7201a8"
             ],
             [
              0.3333333333333333,
              "#9c179e"
             ],
             [
              0.4444444444444444,
              "#bd3786"
             ],
             [
              0.5555555555555556,
              "#d8576b"
             ],
             [
              0.6666666666666666,
              "#ed7953"
             ],
             [
              0.7777777777777778,
              "#fb9f3a"
             ],
             [
              0.8888888888888888,
              "#fdca26"
             ],
             [
              1.0,
              "#f0f921"
             ]
            ]
           }
          ],
          "surface": [
           {
            "type": "surface",
            "colorbar": {
             "outlinewidth": 0,
             "ticks": ""
            },
            "colorscale": [
             [
              0.0,
              "#0d0887"
             ],
             [
              0.1111111111111111,
              "#46039f"
             ],
             [
              0.2222222222222222,
              "#7201a8"
             ],
             [
              0.3333333333333333,
              "#9c179e"
             ],
             [
              0.4444444444444444,
              "#bd3786"
             ],
             [
              0.5555555555555556,
              "#d8576b"
             ],
             [
              0.6666666666666666,
              "#ed7953"
             ],
             [
              0.7777777777777778,
              "#fb9f3a"
             ],
             [
              0.8888888888888888,
              "#fdca26"
             ],
             [
              1.0,
              "#f0f921"
             ]
            ]
           }
          ],
          "mesh3d": [
           {
            "type": "mesh3d",
            "colorbar": {
             "outlinewidth": 0,
             "ticks": ""
            }
           }
          ],
          "scatter": [
           {
            "marker": {
             "line": {
              "color": "#283442"
             }
            },
            "type": "scatter"
           }
          ],
          "parcoords": [
           {
            "type": "parcoords",
            "line": {
             "colorbar": {
              "outlinewidth": 0,
              "ticks": ""
             }
            }
           }
          ],
          "scatterpolargl": [
           {
            "type": "scatterpolargl",
            "marker": {
             "colorbar": {
              "outlinewidth": 0,
              "ticks": ""
             }
            }
           }
          ],
          "bar": [
           {
            "error_x": {
             "color": "#f2f5fa"
            },
            "error_y": {
             "color": "#f2f5fa"
            },
            "marker": {
             "line": {
              "color": "rgb(17,17,17)",
              "width": 0.5
             },
             "pattern": {
              "fillmode": "overlay",
              "size": 10,
              "solidity": 0.2
             }
            },
            "type": "bar"
           }
          ],
          "scattergeo": [
           {
            "type": "scattergeo",
            "marker": {
             "colorbar": {
              "outlinewidth": 0,
              "ticks": ""
             }
            }
           }
          ],
          "scatterpolar": [
           {
            "type": "scatterpolar",
            "marker": {
             "colorbar": {
              "outlinewidth": 0,
              "ticks": ""
             }
            }
           }
          ],
          "histogram": [
           {
            "marker": {
             "pattern": {
              "fillmode": "overlay",
              "size": 10,
              "solidity": 0.2
             }
            },
            "type": "histogram"
           }
          ],
          "scattergl": [
           {
            "marker": {
             "line": {
              "color": "#283442"
             }
            },
            "type": "scattergl"
           }
          ],
          "scatter3d": [
           {
            "type": "scatter3d",
            "line": {
             "colorbar": {
              "outlinewidth": 0,
              "ticks": ""
             }
            },
            "marker": {
             "colorbar": {
              "outlinewidth": 0,
              "ticks": ""
             }
            }
           }
          ],
          "scattermapbox": [
           {
            "type": "scattermapbox",
            "marker": {
             "colorbar": {
              "outlinewidth": 0,
              "ticks": ""
             }
            }
           }
          ],
          "scatterternary": [
           {
            "type": "scatterternary",
            "marker": {
             "colorbar": {
              "outlinewidth": 0,
              "ticks": ""
             }
            }
           }
          ],
          "scattercarpet": [
           {
            "type": "scattercarpet",
            "marker": {
             "colorbar": {
              "outlinewidth": 0,
              "ticks": ""
             }
            }
           }
          ],
          "carpet": [
           {
            "aaxis": {
             "endlinecolor": "#A2B1C6",
             "gridcolor": "#506784",
             "linecolor": "#506784",
             "minorgridcolor": "#506784",
             "startlinecolor": "#A2B1C6"
            },
            "baxis": {
             "endlinecolor": "#A2B1C6",
             "gridcolor": "#506784",
             "linecolor": "#506784",
             "minorgridcolor": "#506784",
             "startlinecolor": "#A2B1C6"
            },
            "type": "carpet"
           }
          ],
          "table": [
           {
            "cells": {
             "fill": {
              "color": "#506784"
             },
             "line": {
              "color": "rgb(17,17,17)"
             }
            },
            "header": {
             "fill": {
              "color": "#2a3f5f"
             },
             "line": {
              "color": "rgb(17,17,17)"
             }
            },
            "type": "table"
           }
          ],
          "barpolar": [
           {
            "marker": {
             "line": {
              "color": "rgb(17,17,17)",
              "width": 0.5
             },
             "pattern": {
              "fillmode": "overlay",
              "size": 10,
              "solidity": 0.2
             }
            },
            "type": "barpolar"
           }
          ],
          "pie": [
           {
            "automargin": true,
            "type": "pie"
           }
          ]
         },
         "layout": {
          "autotypenumbers": "strict",
          "colorway": [
           "#636efa",
           "#EF553B",
           "#00cc96",
           "#ab63fa",
           "#FFA15A",
           "#19d3f3",
           "#FF6692",
           "#B6E880",
           "#FF97FF",
           "#FECB52"
          ],
          "font": {
           "color": "#f2f5fa"
          },
          "hovermode": "closest",
          "hoverlabel": {
           "align": "left"
          },
          "paper_bgcolor": "rgb(17,17,17)",
          "plot_bgcolor": "rgb(17,17,17)",
          "polar": {
           "bgcolor": "rgb(17,17,17)",
           "angularaxis": {
            "gridcolor": "#506784",
            "linecolor": "#506784",
            "ticks": ""
           },
           "radialaxis": {
            "gridcolor": "#506784",
            "linecolor": "#506784",
            "ticks": ""
           }
          },
          "ternary": {
           "bgcolor": "rgb(17,17,17)",
           "aaxis": {
            "gridcolor": "#506784",
            "linecolor": "#506784",
            "ticks": ""
           },
           "baxis": {
            "gridcolor": "#506784",
            "linecolor": "#506784",
            "ticks": ""
           },
           "caxis": {
            "gridcolor": "#506784",
            "linecolor": "#506784",
            "ticks": ""
           }
          },
          "coloraxis": {
           "colorbar": {
            "outlinewidth": 0,
            "ticks": ""
           }
          },
          "colorscale": {
           "sequential": [
            [
             0.0,
             "#0d0887"
            ],
            [
             0.1111111111111111,
             "#46039f"
            ],
            [
             0.2222222222222222,
             "#7201a8"
            ],
            [
             0.3333333333333333,
             "#9c179e"
            ],
            [
             0.4444444444444444,
             "#bd3786"
            ],
            [
             0.5555555555555556,
             "#d8576b"
            ],
            [
             0.6666666666666666,
             "#ed7953"
            ],
            [
             0.7777777777777778,
             "#fb9f3a"
            ],
            [
             0.8888888888888888,
             "#fdca26"
            ],
            [
             1.0,
             "#f0f921"
            ]
           ],
           "sequentialminus": [
            [
             0.0,
             "#0d0887"
            ],
            [
             0.1111111111111111,
             "#46039f"
            ],
            [
             0.2222222222222222,
             "#7201a8"
            ],
            [
             0.3333333333333333,
             "#9c179e"
            ],
            [
             0.4444444444444444,
             "#bd3786"
            ],
            [
             0.5555555555555556,
             "#d8576b"
            ],
            [
             0.6666666666666666,
             "#ed7953"
            ],
            [
             0.7777777777777778,
             "#fb9f3a"
            ],
            [
             0.8888888888888888,
             "#fdca26"
            ],
            [
             1.0,
             "#f0f921"
            ]
           ],
           "diverging": [
            [
             0,
             "#8e0152"
            ],
            [
             0.1,
             "#c51b7d"
            ],
            [
             0.2,
             "#de77ae"
            ],
            [
             0.3,
             "#f1b6da"
            ],
            [
             0.4,
             "#fde0ef"
            ],
            [
             0.5,
             "#f7f7f7"
            ],
            [
             0.6,
             "#e6f5d0"
            ],
            [
             0.7,
             "#b8e186"
            ],
            [
             0.8,
             "#7fbc41"
            ],
            [
             0.9,
             "#4d9221"
            ],
            [
             1,
             "#276419"
            ]
           ]
          },
          "xaxis": {
           "gridcolor": "#283442",
           "linecolor": "#506784",
           "ticks": "",
           "title": {
            "standoff": 15
           },
           "zerolinecolor": "#283442",
           "automargin": true,
           "zerolinewidth": 2
          },
          "yaxis": {
           "gridcolor": "#283442",
           "linecolor": "#506784",
           "ticks": "",
           "title": {
            "standoff": 15
           },
           "zerolinecolor": "#283442",
           "automargin": true,
           "zerolinewidth": 2
          },
          "scene": {
           "xaxis": {
            "backgroundcolor": "rgb(17,17,17)",
            "gridcolor": "#506784",
            "linecolor": "#506784",
            "showbackground": true,
            "ticks": "",
            "zerolinecolor": "#C8D4E3",
            "gridwidth": 2
           },
           "yaxis": {
            "backgroundcolor": "rgb(17,17,17)",
            "gridcolor": "#506784",
            "linecolor": "#506784",
            "showbackground": true,
            "ticks": "",
            "zerolinecolor": "#C8D4E3",
            "gridwidth": 2
           },
           "zaxis": {
            "backgroundcolor": "rgb(17,17,17)",
            "gridcolor": "#506784",
            "linecolor": "#506784",
            "showbackground": true,
            "ticks": "",
            "zerolinecolor": "#C8D4E3",
            "gridwidth": 2
           }
          },
          "shapedefaults": {
           "line": {
            "color": "#f2f5fa"
           }
          },
          "annotationdefaults": {
           "arrowcolor": "#f2f5fa",
           "arrowhead": 0,
           "arrowwidth": 1
          },
          "geo": {
           "bgcolor": "rgb(17,17,17)",
           "landcolor": "rgb(17,17,17)",
           "subunitcolor": "#506784",
           "showland": true,
           "showlakes": true,
           "lakecolor": "rgb(17,17,17)"
          },
          "title": {
           "x": 0.05
          },
          "updatemenudefaults": {
           "bgcolor": "#506784",
           "borderwidth": 0
          },
          "sliderdefaults": {
           "bgcolor": "#C8D4E3",
           "borderwidth": 1,
           "bordercolor": "rgb(17,17,17)",
           "tickwidth": 0
          },
          "mapbox": {
           "style": "dark"
          }
         }
        },
        "xaxis": {
         "anchor": "y",
         "domain": [
          0.0,
          1.0
         ],
         "title": {
          "text": "Date"
         },
         "tickangle": -45,
         "nticks": 20,
         "tickformat": "%Y-%m-%d"
        },
        "yaxis": {
         "anchor": "x",
         "domain": [
          0.0,
          1.0
         ],
         "title": {
          "text": "Interpolated/Predicted Values"
         }
        },
        "legend": {
         "title": {
          "text": "Method"
         },
         "tracegroupgap": 0
        },
        "title": {
         "text": "Time Series of Interpolated Methods and Hackerrank Values"
        }
       },
       "config": {
        "plotlyServerURL": "https://plot.ly"
       }
      },
      "text/html": "<div>                            <div id=\"5503f377-55cd-47c5-afae-52149b477bd5\" class=\"plotly-graph-div\" style=\"height:525px; width:100%;\"></div>            <script type=\"text/javascript\">                require([\"plotly\"], function(Plotly) {                    window.PLOTLYENV=window.PLOTLYENV || {};                                    if (document.getElementById(\"5503f377-55cd-47c5-afae-52149b477bd5\")) {                    Plotly.newPlot(                        \"5503f377-55cd-47c5-afae-52149b477bd5\",                        [{\"hovertemplate\":\"Method=ARIMA\\u003cbr\\u003eDate=%{x}\\u003cbr\\u003eValues=%{y}\\u003cextra\\u003e\\u003c\\u002fextra\\u003e\",\"legendgroup\":\"ARIMA\",\"line\":{\"color\":\"#636efa\",\"dash\":\"solid\"},\"marker\":{\"symbol\":\"circle\"},\"mode\":\"lines\",\"name\":\"ARIMA\",\"orientation\":\"v\",\"showlegend\":true,\"x\":[\"2012-01-01T00:00:00\",\"2012-01-02T00:00:00\",\"2012-01-03T00:00:00\",\"2012-01-04T00:00:00\",\"2012-01-05T00:00:00\",\"2012-01-06T00:00:00\",\"2012-01-07T00:00:00\",\"2012-01-08T00:00:00\",\"2012-01-09T00:00:00\",\"2012-01-10T00:00:00\",\"2012-01-11T00:00:00\",\"2012-01-12T00:00:00\",\"2012-01-13T00:00:00\",\"2012-01-14T00:00:00\",\"2012-01-15T00:00:00\",\"2012-01-16T00:00:00\",\"2012-01-17T00:00:00\",\"2012-01-18T00:00:00\",\"2012-01-19T00:00:00\",\"2012-01-20T00:00:00\"],\"xaxis\":\"x\",\"y\":[32.20387992159348,32.09965943085314,32.111893024177164,29.351512269920153,29.41201870078664,29.410481851614175,30.841650999904918,30.84967116091191,29.32199591433553,31.047764128165312,31.257404123923862,31.187718985241485,29.88819644034257,29.882072465656957,29.3251159579842,28.354321634340035,29.739413358645688,28.989486779476696,26.928444017451085,27.63825628199085],\"yaxis\":\"y\",\"type\":\"scatter\"},{\"hovertemplate\":\"Method=Gradient Boosting\\u003cbr\\u003eDate=%{x}\\u003cbr\\u003eValues=%{y}\\u003cextra\\u003e\\u003c\\u002fextra\\u003e\",\"legendgroup\":\"Gradient Boosting\",\"line\":{\"color\":\"#EF553B\",\"dash\":\"solid\"},\"marker\":{\"symbol\":\"circle\"},\"mode\":\"lines\",\"name\":\"Gradient Boosting\",\"orientation\":\"v\",\"showlegend\":true,\"x\":[\"2012-01-01T00:00:00\",\"2012-01-02T00:00:00\",\"2012-01-03T00:00:00\",\"2012-01-04T00:00:00\",\"2012-01-05T00:00:00\",\"2012-01-06T00:00:00\",\"2012-01-07T00:00:00\",\"2012-01-08T00:00:00\",\"2012-01-09T00:00:00\",\"2012-01-10T00:00:00\",\"2012-01-11T00:00:00\",\"2012-01-12T00:00:00\",\"2012-01-13T00:00:00\",\"2012-01-14T00:00:00\",\"2012-01-15T00:00:00\",\"2012-01-16T00:00:00\",\"2012-01-17T00:00:00\",\"2012-01-18T00:00:00\",\"2012-01-19T00:00:00\",\"2012-01-20T00:00:00\"],\"xaxis\":\"x\",\"y\":[32.02302392226393,32.34658671356954,32.42849066803495,30.128947242464665,30.32983003685054,29.995148903468937,30.642019785515018,30.137013075233988,30.18402264438624,30.95886183212401,31.01012149216315,31.280316803600574,29.90614710873422,29.85162505465506,29.250085071718242,28.003491011434274,29.191424813550427,28.812480674825295,27.881332372319072,27.2864088871551],\"yaxis\":\"y\",\"type\":\"scatter\"},{\"hovertemplate\":\"Method=Random Forest\\u003cbr\\u003eDate=%{x}\\u003cbr\\u003eValues=%{y}\\u003cextra\\u003e\\u003c\\u002fextra\\u003e\",\"legendgroup\":\"Random Forest\",\"line\":{\"color\":\"#00cc96\",\"dash\":\"solid\"},\"marker\":{\"symbol\":\"circle\"},\"mode\":\"lines\",\"name\":\"Random Forest\",\"orientation\":\"v\",\"showlegend\":true,\"x\":[\"2012-01-01T00:00:00\",\"2012-01-02T00:00:00\",\"2012-01-03T00:00:00\",\"2012-01-04T00:00:00\",\"2012-01-05T00:00:00\",\"2012-01-06T00:00:00\",\"2012-01-07T00:00:00\",\"2012-01-08T00:00:00\",\"2012-01-09T00:00:00\",\"2012-01-10T00:00:00\",\"2012-01-11T00:00:00\",\"2012-01-12T00:00:00\",\"2012-01-13T00:00:00\",\"2012-01-14T00:00:00\",\"2012-01-15T00:00:00\",\"2012-01-16T00:00:00\",\"2012-01-17T00:00:00\",\"2012-01-18T00:00:00\",\"2012-01-19T00:00:00\",\"2012-01-20T00:00:00\"],\"xaxis\":\"x\",\"y\":[32.219999999999985,32.38660000000004,32.56309999999997,29.495000000000033,31.18225000000002,30.660200000000017,30.656800000000008,29.790300000000016,29.660299999999975,30.927099999999992,31.110000000000017,31.246700000000022,29.678600000000014,29.528299999999998,29.65299999999997,28.257399999999983,29.504549999999952,28.329300000000025,27.249966,27.476199999999963],\"yaxis\":\"y\",\"type\":\"scatter\"},{\"hovertemplate\":\"Method=Spline\\u003cbr\\u003eDate=%{x}\\u003cbr\\u003eValues=%{y}\\u003cextra\\u003e\\u003c\\u002fextra\\u003e\",\"legendgroup\":\"Spline\",\"line\":{\"color\":\"#ab63fa\",\"dash\":\"solid\"},\"marker\":{\"symbol\":\"circle\"},\"mode\":\"lines\",\"name\":\"Spline\",\"orientation\":\"v\",\"showlegend\":true,\"x\":[\"2012-01-01T00:00:00\",\"2012-01-02T00:00:00\",\"2012-01-03T00:00:00\",\"2012-01-04T00:00:00\",\"2012-01-05T00:00:00\",\"2012-01-06T00:00:00\",\"2012-01-07T00:00:00\",\"2012-01-08T00:00:00\",\"2012-01-09T00:00:00\",\"2012-01-10T00:00:00\",\"2012-01-11T00:00:00\",\"2012-01-12T00:00:00\",\"2012-01-13T00:00:00\",\"2012-01-14T00:00:00\",\"2012-01-15T00:00:00\",\"2012-01-16T00:00:00\",\"2012-01-17T00:00:00\",\"2012-01-18T00:00:00\",\"2012-01-19T00:00:00\",\"2012-01-20T00:00:00\"],\"xaxis\":\"x\",\"y\":[32.56740693838056,32.022415363266816,32.504813100945,29.21614797288426,29.210981780879305,28.476075450356735,30.778366716146706,29.645652535533195,29.565652358741513,30.651522041656513,31.275505072787595,31.409112200380118,29.62026408801473,29.3673552927124,29.78102794388517,29.325718257151127,29.88762117830997,28.140360503447646,26.871198482078423,27.4207004711158],\"yaxis\":\"y\",\"type\":\"scatter\"},{\"hovertemplate\":\"Method=Linear\\u003cbr\\u003eDate=%{x}\\u003cbr\\u003eValues=%{y}\\u003cextra\\u003e\\u003c\\u002fextra\\u003e\",\"legendgroup\":\"Linear\",\"line\":{\"color\":\"#FFA15A\",\"dash\":\"solid\"},\"marker\":{\"symbol\":\"circle\"},\"mode\":\"lines\",\"name\":\"Linear\",\"orientation\":\"v\",\"showlegend\":true,\"x\":[\"2012-01-01T00:00:00\",\"2012-01-02T00:00:00\",\"2012-01-03T00:00:00\",\"2012-01-04T00:00:00\",\"2012-01-05T00:00:00\",\"2012-01-06T00:00:00\",\"2012-01-07T00:00:00\",\"2012-01-08T00:00:00\",\"2012-01-09T00:00:00\",\"2012-01-10T00:00:00\",\"2012-01-11T00:00:00\",\"2012-01-12T00:00:00\",\"2012-01-13T00:00:00\",\"2012-01-14T00:00:00\",\"2012-01-15T00:00:00\",\"2012-01-16T00:00:00\",\"2012-01-17T00:00:00\",\"2012-01-18T00:00:00\",\"2012-01-19T00:00:00\",\"2012-01-20T00:00:00\"],\"xaxis\":\"x\",\"y\":[32.540000000000006,32.120000000000005,32.405,29.38,29.19666666666667,28.973333333333333,30.32,29.84,29.59,30.990000000000002,31.23,31.4,29.69666666666667,29.473333333333333,29.53,28.95,29.7825,28.15,26.884999999999998,27.375],\"yaxis\":\"y\",\"type\":\"scatter\"},{\"hovertemplate\":\"Method=hackerrank\\u003cbr\\u003eDate=%{x}\\u003cbr\\u003eValues=%{y}\\u003cextra\\u003e\\u003c\\u002fextra\\u003e\",\"legendgroup\":\"hackerrank\",\"line\":{\"color\":\"#19d3f3\",\"dash\":\"solid\"},\"marker\":{\"symbol\":\"circle\"},\"mode\":\"lines\",\"name\":\"hackerrank\",\"orientation\":\"v\",\"showlegend\":true,\"x\":[\"2012-01-01T00:00:00\",\"2012-01-02T00:00:00\",\"2012-01-03T00:00:00\",\"2012-01-04T00:00:00\",\"2012-01-05T00:00:00\",\"2012-01-06T00:00:00\",\"2012-01-07T00:00:00\",\"2012-01-08T00:00:00\",\"2012-01-09T00:00:00\",\"2012-01-10T00:00:00\",\"2012-01-11T00:00:00\",\"2012-01-12T00:00:00\",\"2012-01-13T00:00:00\",\"2012-01-14T00:00:00\",\"2012-01-15T00:00:00\",\"2012-01-16T00:00:00\",\"2012-01-17T00:00:00\",\"2012-01-18T00:00:00\",\"2012-01-19T00:00:00\",\"2012-01-20T00:00:00\"],\"xaxis\":\"x\",\"y\":[32.69,32.15,32.61,29.3,28.96,28.78,31.05,29.58,29.5,30.9,31.26,31.48,29.74,29.31,29.72,28.88,30.2,27.3,26.7,27.52],\"yaxis\":\"y\",\"type\":\"scatter\"}],                        {\"template\":{\"data\":{\"histogram2dcontour\":[{\"type\":\"histogram2dcontour\",\"colorbar\":{\"outlinewidth\":0,\"ticks\":\"\"},\"colorscale\":[[0.0,\"#0d0887\"],[0.1111111111111111,\"#46039f\"],[0.2222222222222222,\"#7201a8\"],[0.3333333333333333,\"#9c179e\"],[0.4444444444444444,\"#bd3786\"],[0.5555555555555556,\"#d8576b\"],[0.6666666666666666,\"#ed7953\"],[0.7777777777777778,\"#fb9f3a\"],[0.8888888888888888,\"#fdca26\"],[1.0,\"#f0f921\"]]}],\"choropleth\":[{\"type\":\"choropleth\",\"colorbar\":{\"outlinewidth\":0,\"ticks\":\"\"}}],\"histogram2d\":[{\"type\":\"histogram2d\",\"colorbar\":{\"outlinewidth\":0,\"ticks\":\"\"},\"colorscale\":[[0.0,\"#0d0887\"],[0.1111111111111111,\"#46039f\"],[0.2222222222222222,\"#7201a8\"],[0.3333333333333333,\"#9c179e\"],[0.4444444444444444,\"#bd3786\"],[0.5555555555555556,\"#d8576b\"],[0.6666666666666666,\"#ed7953\"],[0.7777777777777778,\"#fb9f3a\"],[0.8888888888888888,\"#fdca26\"],[1.0,\"#f0f921\"]]}],\"heatmap\":[{\"type\":\"heatmap\",\"colorbar\":{\"outlinewidth\":0,\"ticks\":\"\"},\"colorscale\":[[0.0,\"#0d0887\"],[0.1111111111111111,\"#46039f\"],[0.2222222222222222,\"#7201a8\"],[0.3333333333333333,\"#9c179e\"],[0.4444444444444444,\"#bd3786\"],[0.5555555555555556,\"#d8576b\"],[0.6666666666666666,\"#ed7953\"],[0.7777777777777778,\"#fb9f3a\"],[0.8888888888888888,\"#fdca26\"],[1.0,\"#f0f921\"]]}],\"heatmapgl\":[{\"type\":\"heatmapgl\",\"colorbar\":{\"outlinewidth\":0,\"ticks\":\"\"},\"colorscale\":[[0.0,\"#0d0887\"],[0.1111111111111111,\"#46039f\"],[0.2222222222222222,\"#7201a8\"],[0.3333333333333333,\"#9c179e\"],[0.4444444444444444,\"#bd3786\"],[0.5555555555555556,\"#d8576b\"],[0.6666666666666666,\"#ed7953\"],[0.7777777777777778,\"#fb9f3a\"],[0.8888888888888888,\"#fdca26\"],[1.0,\"#f0f921\"]]}],\"contourcarpet\":[{\"type\":\"contourcarpet\",\"colorbar\":{\"outlinewidth\":0,\"ticks\":\"\"}}],\"contour\":[{\"type\":\"contour\",\"colorbar\":{\"outlinewidth\":0,\"ticks\":\"\"},\"colorscale\":[[0.0,\"#0d0887\"],[0.1111111111111111,\"#46039f\"],[0.2222222222222222,\"#7201a8\"],[0.3333333333333333,\"#9c179e\"],[0.4444444444444444,\"#bd3786\"],[0.5555555555555556,\"#d8576b\"],[0.6666666666666666,\"#ed7953\"],[0.7777777777777778,\"#fb9f3a\"],[0.8888888888888888,\"#fdca26\"],[1.0,\"#f0f921\"]]}],\"surface\":[{\"type\":\"surface\",\"colorbar\":{\"outlinewidth\":0,\"ticks\":\"\"},\"colorscale\":[[0.0,\"#0d0887\"],[0.1111111111111111,\"#46039f\"],[0.2222222222222222,\"#7201a8\"],[0.3333333333333333,\"#9c179e\"],[0.4444444444444444,\"#bd3786\"],[0.5555555555555556,\"#d8576b\"],[0.6666666666666666,\"#ed7953\"],[0.7777777777777778,\"#fb9f3a\"],[0.8888888888888888,\"#fdca26\"],[1.0,\"#f0f921\"]]}],\"mesh3d\":[{\"type\":\"mesh3d\",\"colorbar\":{\"outlinewidth\":0,\"ticks\":\"\"}}],\"scatter\":[{\"marker\":{\"line\":{\"color\":\"#283442\"}},\"type\":\"scatter\"}],\"parcoords\":[{\"type\":\"parcoords\",\"line\":{\"colorbar\":{\"outlinewidth\":0,\"ticks\":\"\"}}}],\"scatterpolargl\":[{\"type\":\"scatterpolargl\",\"marker\":{\"colorbar\":{\"outlinewidth\":0,\"ticks\":\"\"}}}],\"bar\":[{\"error_x\":{\"color\":\"#f2f5fa\"},\"error_y\":{\"color\":\"#f2f5fa\"},\"marker\":{\"line\":{\"color\":\"rgb(17,17,17)\",\"width\":0.5},\"pattern\":{\"fillmode\":\"overlay\",\"size\":10,\"solidity\":0.2}},\"type\":\"bar\"}],\"scattergeo\":[{\"type\":\"scattergeo\",\"marker\":{\"colorbar\":{\"outlinewidth\":0,\"ticks\":\"\"}}}],\"scatterpolar\":[{\"type\":\"scatterpolar\",\"marker\":{\"colorbar\":{\"outlinewidth\":0,\"ticks\":\"\"}}}],\"histogram\":[{\"marker\":{\"pattern\":{\"fillmode\":\"overlay\",\"size\":10,\"solidity\":0.2}},\"type\":\"histogram\"}],\"scattergl\":[{\"marker\":{\"line\":{\"color\":\"#283442\"}},\"type\":\"scattergl\"}],\"scatter3d\":[{\"type\":\"scatter3d\",\"line\":{\"colorbar\":{\"outlinewidth\":0,\"ticks\":\"\"}},\"marker\":{\"colorbar\":{\"outlinewidth\":0,\"ticks\":\"\"}}}],\"scattermapbox\":[{\"type\":\"scattermapbox\",\"marker\":{\"colorbar\":{\"outlinewidth\":0,\"ticks\":\"\"}}}],\"scatterternary\":[{\"type\":\"scatterternary\",\"marker\":{\"colorbar\":{\"outlinewidth\":0,\"ticks\":\"\"}}}],\"scattercarpet\":[{\"type\":\"scattercarpet\",\"marker\":{\"colorbar\":{\"outlinewidth\":0,\"ticks\":\"\"}}}],\"carpet\":[{\"aaxis\":{\"endlinecolor\":\"#A2B1C6\",\"gridcolor\":\"#506784\",\"linecolor\":\"#506784\",\"minorgridcolor\":\"#506784\",\"startlinecolor\":\"#A2B1C6\"},\"baxis\":{\"endlinecolor\":\"#A2B1C6\",\"gridcolor\":\"#506784\",\"linecolor\":\"#506784\",\"minorgridcolor\":\"#506784\",\"startlinecolor\":\"#A2B1C6\"},\"type\":\"carpet\"}],\"table\":[{\"cells\":{\"fill\":{\"color\":\"#506784\"},\"line\":{\"color\":\"rgb(17,17,17)\"}},\"header\":{\"fill\":{\"color\":\"#2a3f5f\"},\"line\":{\"color\":\"rgb(17,17,17)\"}},\"type\":\"table\"}],\"barpolar\":[{\"marker\":{\"line\":{\"color\":\"rgb(17,17,17)\",\"width\":0.5},\"pattern\":{\"fillmode\":\"overlay\",\"size\":10,\"solidity\":0.2}},\"type\":\"barpolar\"}],\"pie\":[{\"automargin\":true,\"type\":\"pie\"}]},\"layout\":{\"autotypenumbers\":\"strict\",\"colorway\":[\"#636efa\",\"#EF553B\",\"#00cc96\",\"#ab63fa\",\"#FFA15A\",\"#19d3f3\",\"#FF6692\",\"#B6E880\",\"#FF97FF\",\"#FECB52\"],\"font\":{\"color\":\"#f2f5fa\"},\"hovermode\":\"closest\",\"hoverlabel\":{\"align\":\"left\"},\"paper_bgcolor\":\"rgb(17,17,17)\",\"plot_bgcolor\":\"rgb(17,17,17)\",\"polar\":{\"bgcolor\":\"rgb(17,17,17)\",\"angularaxis\":{\"gridcolor\":\"#506784\",\"linecolor\":\"#506784\",\"ticks\":\"\"},\"radialaxis\":{\"gridcolor\":\"#506784\",\"linecolor\":\"#506784\",\"ticks\":\"\"}},\"ternary\":{\"bgcolor\":\"rgb(17,17,17)\",\"aaxis\":{\"gridcolor\":\"#506784\",\"linecolor\":\"#506784\",\"ticks\":\"\"},\"baxis\":{\"gridcolor\":\"#506784\",\"linecolor\":\"#506784\",\"ticks\":\"\"},\"caxis\":{\"gridcolor\":\"#506784\",\"linecolor\":\"#506784\",\"ticks\":\"\"}},\"coloraxis\":{\"colorbar\":{\"outlinewidth\":0,\"ticks\":\"\"}},\"colorscale\":{\"sequential\":[[0.0,\"#0d0887\"],[0.1111111111111111,\"#46039f\"],[0.2222222222222222,\"#7201a8\"],[0.3333333333333333,\"#9c179e\"],[0.4444444444444444,\"#bd3786\"],[0.5555555555555556,\"#d8576b\"],[0.6666666666666666,\"#ed7953\"],[0.7777777777777778,\"#fb9f3a\"],[0.8888888888888888,\"#fdca26\"],[1.0,\"#f0f921\"]],\"sequentialminus\":[[0.0,\"#0d0887\"],[0.1111111111111111,\"#46039f\"],[0.2222222222222222,\"#7201a8\"],[0.3333333333333333,\"#9c179e\"],[0.4444444444444444,\"#bd3786\"],[0.5555555555555556,\"#d8576b\"],[0.6666666666666666,\"#ed7953\"],[0.7777777777777778,\"#fb9f3a\"],[0.8888888888888888,\"#fdca26\"],[1.0,\"#f0f921\"]],\"diverging\":[[0,\"#8e0152\"],[0.1,\"#c51b7d\"],[0.2,\"#de77ae\"],[0.3,\"#f1b6da\"],[0.4,\"#fde0ef\"],[0.5,\"#f7f7f7\"],[0.6,\"#e6f5d0\"],[0.7,\"#b8e186\"],[0.8,\"#7fbc41\"],[0.9,\"#4d9221\"],[1,\"#276419\"]]},\"xaxis\":{\"gridcolor\":\"#283442\",\"linecolor\":\"#506784\",\"ticks\":\"\",\"title\":{\"standoff\":15},\"zerolinecolor\":\"#283442\",\"automargin\":true,\"zerolinewidth\":2},\"yaxis\":{\"gridcolor\":\"#283442\",\"linecolor\":\"#506784\",\"ticks\":\"\",\"title\":{\"standoff\":15},\"zerolinecolor\":\"#283442\",\"automargin\":true,\"zerolinewidth\":2},\"scene\":{\"xaxis\":{\"backgroundcolor\":\"rgb(17,17,17)\",\"gridcolor\":\"#506784\",\"linecolor\":\"#506784\",\"showbackground\":true,\"ticks\":\"\",\"zerolinecolor\":\"#C8D4E3\",\"gridwidth\":2},\"yaxis\":{\"backgroundcolor\":\"rgb(17,17,17)\",\"gridcolor\":\"#506784\",\"linecolor\":\"#506784\",\"showbackground\":true,\"ticks\":\"\",\"zerolinecolor\":\"#C8D4E3\",\"gridwidth\":2},\"zaxis\":{\"backgroundcolor\":\"rgb(17,17,17)\",\"gridcolor\":\"#506784\",\"linecolor\":\"#506784\",\"showbackground\":true,\"ticks\":\"\",\"zerolinecolor\":\"#C8D4E3\",\"gridwidth\":2}},\"shapedefaults\":{\"line\":{\"color\":\"#f2f5fa\"}},\"annotationdefaults\":{\"arrowcolor\":\"#f2f5fa\",\"arrowhead\":0,\"arrowwidth\":1},\"geo\":{\"bgcolor\":\"rgb(17,17,17)\",\"landcolor\":\"rgb(17,17,17)\",\"subunitcolor\":\"#506784\",\"showland\":true,\"showlakes\":true,\"lakecolor\":\"rgb(17,17,17)\"},\"title\":{\"x\":0.05},\"updatemenudefaults\":{\"bgcolor\":\"#506784\",\"borderwidth\":0},\"sliderdefaults\":{\"bgcolor\":\"#C8D4E3\",\"borderwidth\":1,\"bordercolor\":\"rgb(17,17,17)\",\"tickwidth\":0},\"mapbox\":{\"style\":\"dark\"}}},\"xaxis\":{\"anchor\":\"y\",\"domain\":[0.0,1.0],\"title\":{\"text\":\"Date\"},\"tickangle\":-45,\"nticks\":20,\"tickformat\":\"%Y-%m-%d\"},\"yaxis\":{\"anchor\":\"x\",\"domain\":[0.0,1.0],\"title\":{\"text\":\"Interpolated\\u002fPredicted Values\"}},\"legend\":{\"title\":{\"text\":\"Method\"},\"tracegroupgap\":0},\"title\":{\"text\":\"Time Series of Interpolated Methods and Hackerrank Values\"}},                        {\"responsive\": true}                    ).then(function(){\n                            \nvar gd = document.getElementById('5503f377-55cd-47c5-afae-52149b477bd5');\nvar x = new MutationObserver(function (mutations, observer) {{\n        var display = window.getComputedStyle(gd).display;\n        if (!display || display === 'none') {{\n            console.log([gd, 'removed!']);\n            Plotly.purge(gd);\n            observer.disconnect();\n        }}\n}});\n\n// Listen for the removal of the full notebook cells\nvar notebookContainer = gd.closest('#notebook-container');\nif (notebookContainer) {{\n    x.observe(notebookContainer, {childList: true});\n}}\n\n// Listen for the clearing of the current output cell\nvar outputEl = gd.closest('.output');\nif (outputEl) {{\n    x.observe(outputEl, {childList: true});\n}}\n\n                        })                };                });            </script>        </div>"
     },
     "metadata": {},
     "output_type": "display_data"
    }
   ],
   "source": [
    "import pandas as pd\n",
    "import plotly.express as px\n",
    "\n",
    "# Assuming 'result' is already loaded and available as a DataFrame\n",
    "# Generate a date range based on the number of rows assuming daily data starting from a specific date\n",
    "date_range = pd.date_range(start='2012-01-01', periods=len(result), freq='D')\n",
    "\n",
    "# Assign this date range as a new column; for Plotly we'll keep it as a column for easier handling\n",
    "result['Date'] = date_range\n",
    "\n",
    "# Create the Plotly line chart\n",
    "fig = px.line(result, x='Date', y=result.columns[:-1], title='Time Series of Interpolated Methods and Hackerrank Values',\n",
    "              labels={'value': 'Values', 'variable': 'Method', 'Date': 'Date'})\n",
    "\n",
    "# Update layout for better readability\n",
    "fig.update_layout(\n",
    "    xaxis_title='Date',\n",
    "    yaxis_title='Interpolated/Predicted Values',\n",
    "    legend_title='Method',\n",
    "    xaxis=dict(\n",
    "        tickangle=-45,\n",
    "        nticks=20,\n",
    "        tickformat='%Y-%m-%d'\n",
    "    )\n",
    ")\n",
    "\n",
    "# Show the plot\n",
    "fig.show()\n"
   ],
   "metadata": {
    "collapsed": false,
    "ExecuteTime": {
     "end_time": "2024-04-12T06:23:17.453841Z",
     "start_time": "2024-04-12T06:23:17.419364Z"
    }
   },
   "id": "bfe9f31aa7c602c0",
   "execution_count": 23
  },
  {
   "cell_type": "code",
   "outputs": [],
   "source": [],
   "metadata": {
    "collapsed": false
   },
   "id": "c7e4ca3e627ba368"
  }
 ],
 "metadata": {
  "kernelspec": {
   "display_name": "Python 3",
   "language": "python",
   "name": "python3"
  },
  "language_info": {
   "codemirror_mode": {
    "name": "ipython",
    "version": 2
   },
   "file_extension": ".py",
   "mimetype": "text/x-python",
   "name": "python",
   "nbconvert_exporter": "python",
   "pygments_lexer": "ipython2",
   "version": "2.7.6"
  }
 },
 "nbformat": 4,
 "nbformat_minor": 5
}
